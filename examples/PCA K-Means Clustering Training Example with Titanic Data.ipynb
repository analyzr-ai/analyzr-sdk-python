{
 "cells": [
  {
   "cell_type": "code",
   "execution_count": null,
   "id": "98588986",
   "metadata": {},
   "outputs": [],
   "source": [
    "# \n",
    "# Copyright (c) 2022 Go2Market Insights d/b/a Analyzr\n",
    "# All rights reserved\n",
    "# https://analyzr.ai\n",
    "# \n",
    "# The above copyright notice and this permission notice shall be included in all copies or substantial portions\n",
    "# of the Software.\n",
    "# \n",
    "# THE SOFTWARE IS PROVIDED \"AS IS\", WITHOUT WARRANTY OF ANY KIND, EXPRESS OR IMPLIED, INCLUDING BUT NOT LIMITED TO\n",
    "# THE WARRANTIES OF MERCHANTABILITY, FITNESS FOR A PARTICULAR PURPOSE AND NONINFRINGEMENT. IN NO EVENT SHALL THE\n",
    "# AUTHORS OR COPYRIGHT HOLDERS BE LIABLE FOR ANY CLAIM, DAMAGES OR OTHER LIABILITY, WHETHER IN AN ACTION OF CONTRACT,\n",
    "# TORT OR OTHERWISE, ARISING FROM, OUT OF OR IN CONNECTION WITH THE SOFTWARE OR THE USE OR OTHER DEALINGS IN THE SOFTWARE.\n",
    "# \n",
    "# For Python SDK reference go to https://https://analyzr-sdk-python.readthedocs.io/\n",
    "# For support go to https://support.analyzr.ai\n",
    "# \n",
    "# To run this notebook you will need the following Python packages:\n",
    "#   - pandas\n",
    "#   - numpy\n",
    "#   - analyzrclient\n",
    "#   - matplotlib\n",
    "#   - seaborn\n",
    "#\n",
    "import pandas as pd\n",
    "import numpy as np\n",
    "import sys, os, uuid\n",
    "from copy import deepcopy\n",
    "import datetime \n",
    "\n",
    "import matplotlib.pyplot as plt\n",
    "import seaborn as sns\n",
    "%matplotlib inline\n",
    "sns.set(style='white', context='notebook', palette='deep')"
   ]
  },
  {
   "cell_type": "code",
   "execution_count": null,
   "id": "7732a2cf",
   "metadata": {},
   "outputs": [],
   "source": [
    "# \n",
    "# LOAD DATA\n",
    "# \n",
    "raw_data = pd.read_csv('https://g2mstaticfiles.blob.core.windows.net/$web/titanic.csv', encoding = \"ISO-8859-1\", low_memory=False)\n",
    "raw_data.head()"
   ]
  },
  {
   "cell_type": "code",
   "execution_count": null,
   "id": "2e730788",
   "metadata": {},
   "outputs": [],
   "source": [
    "# \n",
    "# TAKE A SUBSET OF THE ORIGINAL DATASET\n",
    "# \n",
    "# This step selects a subset of the original dataset for training purposes. \n",
    "# It also assigns a record identifier field (ID_FIELD) for audit and reconciliation \n",
    "# purposes. \n",
    "# \n",
    "SELECTED_FIELDS = [\n",
    "    'Survived',\n",
    "    'Pclass',\n",
    "    'Sex',\n",
    "    'Age',\n",
    "    'SibSp',\n",
    "    'Parch',\n",
    "    'Fare',\n",
    "    'Embarked',\n",
    "    'PassengerId',\n",
    "]\n",
    "ID_FIELD = 'PassengerId'\n",
    "df = raw_data[SELECTED_FIELDS].dropna()\n",
    "df[ID_FIELD] = df[ID_FIELD].astype('string')\n",
    "df.head()"
   ]
  },
  {
   "cell_type": "code",
   "execution_count": null,
   "id": "57258498",
   "metadata": {},
   "outputs": [],
   "source": [
    "# \n",
    "# ASSIGN VARIABLE TYPES\n",
    "# \n",
    "# This step assigns variable types: categorical or numerical. \n",
    "# \n",
    "CATEGORICAL_VARS = ['Sex', 'Embarked'] \n",
    "NUMERICAL_VARS = ['Pclass', 'Age', 'SibSp', 'Parch', 'Fare'] "
   ]
  },
  {
   "cell_type": "code",
   "execution_count": null,
   "id": "f559187f",
   "metadata": {},
   "outputs": [],
   "source": [
    "# \n",
    "# START ANALYZR CLIENT\n",
    "# \n",
    "# Access to the Analyzr API requires credentials. Contact your account manager or contact \n",
    "# our support team at https://support.analyzr.ai for more info. If you are a free tier user \n",
    "# you can skip this step altogether and use your local compute resources. \n",
    "# \n",
    "# For installation instructions on the Analyzr client see https://github.com/analyzr-ai/analyzr-sdk-python\n",
    "# \n",
    "from analyzrclient import Analyzer\n",
    "analyzer = Analyzer(host='insert_your_host')\n",
    "analyzer.login()\n",
    "analyzer.version()"
   ]
  },
  {
   "cell_type": "code",
   "execution_count": null,
   "id": "36fa13c0",
   "metadata": {},
   "outputs": [],
   "source": [
    "#\n",
    "# TRAIN MODEL\n",
    "#\n",
    "# This step performs model training and cross-validation. If you do not have API access, e.g. free \n",
    "# tier users, you will need to replace the training command with your own model.fit() statement \n",
    "# for model training and cross-validation using local compute resources.  \n",
    "# \n",
    "# Note also this version keeps polling the API while the model is training. For longer training runs \n",
    "# you may want to disable polling and manually check the status of your model (see next cell). \n",
    "# \n",
    "t_0 = datetime.datetime.now()\n",
    "client_id = 'insert_your_client_id'\n",
    "algorithm = 'pca-kmeans-simple'\n",
    "N = 5\n",
    "verbose = True\n",
    "res = analyzer.cluster.run(\n",
    "    df, client_id=client_id, \n",
    "    idx_var=ID_FIELD, categorical_vars=CATEGORICAL_VARS, numerical_vars=NUMERICAL_VARS, \n",
    "    algorithm=algorithm, n_components=N, \n",
    "    buffer_batch_size=1000, verbose=True, poll=True, compressed=True, staging=True, \n",
    ")\n",
    "print('model_id: {}'.format(res['request_id']))\n",
    "print('total time: {}'.format(datetime.datetime.now()-t_0))"
   ]
  },
  {
   "cell_type": "code",
   "execution_count": null,
   "id": "cc1f2f2c",
   "metadata": {},
   "outputs": [],
   "source": [
    "#\n",
    "# CHECK STATUS OF MODEL RUN\n",
    "# \n",
    "# For manual polling uncomment the lines below. \n",
    "# \n",
    "# res = analyzer.cluster.check_status(model_id=res['model_id'], client_id=client_id, verbose=True) \n",
    "# res "
   ]
  },
  {
   "cell_type": "code",
   "execution_count": null,
   "id": "d7bbaf26",
   "metadata": {},
   "outputs": [],
   "source": [
    "#\n",
    "# SHOW DATA KEYED BY CLUSTER\n",
    "#\n",
    "res['data']"
   ]
  },
  {
   "cell_type": "code",
   "execution_count": null,
   "id": "712d515b",
   "metadata": {},
   "outputs": [],
   "source": [
    "#\n",
    "# SHOW STATS BY CLUSTER\n",
    "#\n",
    "res['stats']"
   ]
  },
  {
   "cell_type": "code",
   "execution_count": null,
   "id": "4ddccb8d",
   "metadata": {},
   "outputs": [],
   "source": [
    "#\n",
    "# SHOW DISTANCES BETWEEN CLUSTER CENTROIDS\n",
    "#\n",
    "res['distances']"
   ]
  }
 ],
 "metadata": {
  "kernelspec": {
   "display_name": "analyzr",
   "language": "python",
   "name": "analyzr"
  },
  "language_info": {
   "codemirror_mode": {
    "name": "ipython",
    "version": 3
   },
   "file_extension": ".py",
   "mimetype": "text/x-python",
   "name": "python",
   "nbconvert_exporter": "python",
   "pygments_lexer": "ipython3",
   "version": "3.8.8"
  }
 },
 "nbformat": 4,
 "nbformat_minor": 5
}
