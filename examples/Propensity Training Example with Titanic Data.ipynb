{
 "cells": [
  {
   "cell_type": "code",
   "execution_count": null,
   "id": "eee3d0fd",
   "metadata": {},
   "outputs": [],
   "source": [
    "# \n",
    "# Copyright (c) 2022 Go2Market Insights d/b/a Analyzr\n",
    "# All rights reserved\n",
    "# https://analyzr.ai\n",
    "# \n",
    "# The above copyright notice and this permission notice shall be included in all copies or substantial portions\n",
    "# of the Software.\n",
    "# \n",
    "# THE SOFTWARE IS PROVIDED \"AS IS\", WITHOUT WARRANTY OF ANY KIND, EXPRESS OR IMPLIED, INCLUDING BUT NOT LIMITED TO\n",
    "# THE WARRANTIES OF MERCHANTABILITY, FITNESS FOR A PARTICULAR PURPOSE AND NONINFRINGEMENT. IN NO EVENT SHALL THE\n",
    "# AUTHORS OR COPYRIGHT HOLDERS BE LIABLE FOR ANY CLAIM, DAMAGES OR OTHER LIABILITY, WHETHER IN AN ACTION OF CONTRACT,\n",
    "# TORT OR OTHERWISE, ARISING FROM, OUT OF OR IN CONNECTION WITH THE SOFTWARE OR THE USE OR OTHER DEALINGS IN THE SOFTWARE.\n",
    "# \n",
    "# For support and documentation see comments below or go to https://support.analyzr.ai\n",
    "# \n",
    "# To run this notebook you will need the following Python packages:\n",
    "#   - pandas\n",
    "#   - numpy\n",
    "#   - sklearn\n",
    "#   - analyzrclient\n",
    "#   - matplotlib\n",
    "#   - seaborn\n",
    "#\n",
    "import pandas as pd\n",
    "import numpy as np\n",
    "import sys, os, uuid\n",
    "from copy import deepcopy\n",
    "import datetime \n",
    "\n",
    "import matplotlib.pyplot as plt\n",
    "import seaborn as sns\n",
    "%matplotlib inline\n",
    "sns.set(style='white', context='notebook', palette='deep')"
   ]
  },
  {
   "cell_type": "code",
   "execution_count": null,
   "id": "5d01f6ca",
   "metadata": {},
   "outputs": [],
   "source": [
    "# \n",
    "# LOAD DATA\n",
    "# \n",
    "raw_data = pd.read_csv('https://g2mstaticfiles.blob.core.windows.net/$web/titanic.csv', encoding = \"ISO-8859-1\", low_memory=False)\n",
    "raw_data.head()"
   ]
  },
  {
   "cell_type": "code",
   "execution_count": null,
   "id": "1e99cb41",
   "metadata": {},
   "outputs": [],
   "source": [
    "# \n",
    "# TAKE A SUBSET OF THE ORIGINAL DATASET\n",
    "# \n",
    "# This step selects a subset of the original dataset for training purposes. \n",
    "# It also assigns a record identifier field (ID_FIELD) for audit and reconciliation \n",
    "# purposes. \n",
    "# \n",
    "SELECTED_FIELDS = [\n",
    "    'Survived',\n",
    "    'Pclass',\n",
    "    'Sex',\n",
    "    'Age',\n",
    "    'SibSp',\n",
    "    'Parch',\n",
    "    'Fare',\n",
    "    'Embarked',\n",
    "    'PassengerId',\n",
    "]\n",
    "ID_FIELD = 'PassengerId'\n",
    "df = raw_data[SELECTED_FIELDS].dropna()\n",
    "df[ID_FIELD] = df[ID_FIELD].astype('string')\n",
    "df.head()"
   ]
  },
  {
   "cell_type": "code",
   "execution_count": null,
   "id": "fbabab56",
   "metadata": {},
   "outputs": [],
   "source": [
    "# \n",
    "# ASSIGN VARIABLE TYPES\n",
    "# \n",
    "# This step assigns variable types. OUTCOME_VAR identifies the dependent variable.\n",
    "# Other arays identify independent variabkes by type: categorical, numerical, or boolean. \n",
    "# \n",
    "OUTCOME_VAR = 'Survived' \n",
    "CATEGORICAL_VARS = ['Sex', 'Embarked'] \n",
    "NUMERICAL_VARS = ['Pclass', 'Age', 'SibSp', 'Parch', 'Fare'] \n",
    "BOOLEAN_VARS = [OUTCOME_VAR] "
   ]
  },
  {
   "cell_type": "code",
   "execution_count": null,
   "id": "2b9063df",
   "metadata": {},
   "outputs": [],
   "source": [
    "# \n",
    "# START ANALYZR CLIENT\n",
    "# \n",
    "# Access to the Analyzr API requires credentials. Contact your account manager or contact \n",
    "# our support team at https://support.analyzr.ai for more info. If you are a free tier user \n",
    "# you can skip this step altogether and use your local compute resources. \n",
    "# \n",
    "# For installation instructions on the Analyzr client see https://github.com/analyzr-ai/analyzr-sdk-python\n",
    "# \n",
    "from analyzrclient import Analyzer\n",
    "analyzer = Analyzer(host='analyzr3.api.g2m.ai')\n",
    "analyzer.login()\n",
    "analyzer.version()"
   ]
  },
  {
   "cell_type": "code",
   "execution_count": null,
   "id": "a466ca54",
   "metadata": {},
   "outputs": [],
   "source": [
    "#\n",
    "# TRAIN MODEL\n",
    "#\n",
    "# This step performs model training and cross-validation. If you do not have API access, e.g. free \n",
    "# tier users, you will need to replace the training command with your own model.fit() statement \n",
    "# for model training and cross-validation using local compute resources.  \n",
    "# \n",
    "# Note also this version keeps polling the API while the model is training. For longer training runs \n",
    "# you may want to disable polling and manually check the status of your model (see next cell). \n",
    "# \n",
    "t_0 = datetime.datetime.now()\n",
    "client_id = 'null'\n",
    "algorithm = 'logistic-regression-classifier'\n",
    "verbose = True\n",
    "res = analyzer.propensity.train(\n",
    "    df, client_id=client_id, \n",
    "    idx_var=ID_FIELD, outcome_var=OUTCOME_VAR, categorical_vars=CATEGORICAL_VARS, numerical_vars=NUMERICAL_VARS, \n",
    "    algorithm=algorithm, train_size=0.5, smote=True, \n",
    "    buffer_batch_size=1000, verbose=verbose, poll=True, compressed=True, encoding=True\n",
    ")\n",
    "print('model_id: {}'.format(res['model_id']))\n",
    "print('total time: {}'.format(datetime.datetime.now()-t_0))"
   ]
  },
  {
   "cell_type": "code",
   "execution_count": null,
   "id": "d310d60a",
   "metadata": {},
   "outputs": [],
   "source": [
    "#\n",
    "# CHECK STATUS OF MODEL RUN\n",
    "# \n",
    "# For manual polling uncomment the lines below. \n",
    "# \n",
    "# res = analyzer.propensity.check_status(model_id=res['model_id'], client_id=client_id, verbose=True) \n",
    "# res "
   ]
  },
  {
   "cell_type": "code",
   "execution_count": null,
   "id": "27919b03",
   "metadata": {},
   "outputs": [],
   "source": [
    "#\n",
    "# DISPLAY FEATURE IMPORTANCE \n",
    "#\n",
    "sns.barplot(data=res['features'][0:15], x='Importance', y='Feature')"
   ]
  },
  {
   "cell_type": "code",
   "execution_count": null,
   "id": "d892d843",
   "metadata": {},
   "outputs": [],
   "source": [
    "#\n",
    "# SHOW FEATURE IMPORTANCE TABLE\n",
    "#\n",
    "res['features']"
   ]
  },
  {
   "cell_type": "code",
   "execution_count": null,
   "id": "652dcb23",
   "metadata": {},
   "outputs": [],
   "source": [
    "#\n",
    "# SHOW CONFUSION MATRIX\n",
    "#\n",
    "res['confusion_matrix']"
   ]
  },
  {
   "cell_type": "code",
   "execution_count": null,
   "id": "cf3ab011",
   "metadata": {},
   "outputs": [],
   "source": [
    "#\n",
    "# SHOW ERROR STATISTICS\n",
    "#\n",
    "res['stats']"
   ]
  },
  {
   "cell_type": "code",
   "execution_count": null,
   "id": "52bef640",
   "metadata": {},
   "outputs": [],
   "source": [
    "#\n",
    "# PLOT RECEIVER OPERATING CHARACTERISTIC CURVE\n",
    "#\n",
    "plt.plot(res['roc']['FPR'], res['roc']['TPR'], label=algorithm) \n",
    "plt.xlabel('False Positive Rate') \n",
    "plt.ylabel('True Positive Rate') \n",
    "plt.show()"
   ]
  }
 ],
 "metadata": {
  "kernelspec": {
   "display_name": "analyzr",
   "language": "python",
   "name": "analyzr"
  },
  "language_info": {
   "codemirror_mode": {
    "name": "ipython",
    "version": 3
   },
   "file_extension": ".py",
   "mimetype": "text/x-python",
   "name": "python",
   "nbconvert_exporter": "python",
   "pygments_lexer": "ipython3",
   "version": "3.8.8"
  }
 },
 "nbformat": 4,
 "nbformat_minor": 5
}
